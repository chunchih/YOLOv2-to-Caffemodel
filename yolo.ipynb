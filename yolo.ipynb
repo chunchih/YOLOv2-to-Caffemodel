{
 "cells": [
  {
   "cell_type": "markdown",
   "metadata": {},
   "source": [
    "# Multilabel classification on PASCAL using python data-layers"
   ]
  },
  {
   "cell_type": "markdown",
   "metadata": {},
   "source": [
    "## 1. Setting"
   ]
  },
  {
   "cell_type": "code",
   "execution_count": 1,
   "metadata": {
    "collapsed": false
   },
   "outputs": [],
   "source": [
    "yolo_weights_path = \"yolo/models/yolo-voc_old_asada_30000.weights\"\n",
    "test_data_folder_path = \"text-renderer/data/MIT_en_ch/en/en_300/\"#yolo/\"\n",
    "lexicon_path = \"text-renderer/list/street_en_single_list-28.txt\"\n",
    "\n",
    "num_class = 28\n",
    "input_size = (416,416)\n",
    "batch_size = 1"
   ]
  },
  {
   "cell_type": "markdown",
   "metadata": {},
   "source": [
    "## 2. Import library "
   ]
  },
  {
   "cell_type": "code",
   "execution_count": 2,
   "metadata": {
    "collapsed": true
   },
   "outputs": [],
   "source": [
    "import sys\n",
    "import matplotlib.pyplot as plt\n",
    "sys.path.append(\"yolo/python\")\n",
    "import y2c\n",
    "import caffe\n",
    "import numpy as np\n",
    "import os"
   ]
  },
  {
   "cell_type": "markdown",
   "metadata": {},
   "source": [
    "## 3. Load Lexicon and Create test file "
   ]
  },
  {
   "cell_type": "code",
   "execution_count": 3,
   "metadata": {
    "collapsed": false
   },
   "outputs": [
    {
     "name": "stdout",
     "output_type": "stream",
     "text": [
      "Lexicon: ['FRAZZOLI' 'TEDRAKE' 'ASADA' 'BREAZEAL' 'DUBOWSKY' 'HERR' 'HOBURG' 'HOGAN'\n",
      " 'IAGNEMMA' 'KAELBLING' 'LOZANO' 'KIM' 'REIF' 'WALTZ' 'PERAIRE' 'CHANDRA'\n",
      " 'KASAN' 'MICALI' 'CHEN' 'HOSOI' 'RUS' 'HOW' 'ROY' 'SHAH' 'WILLIAMS'\n",
      " 'LEONARD' 'BROOKS' 'KARAMAN']\n",
      "------------------------------------------\n",
      "Prototxt Created! Path: yolo/y2c_output_28.prototxt\n",
      "------------------------------------------\n",
      "Solver Created! Path: yolo/solver.prototxt\n",
      "------------------------------------------\n"
     ]
    }
   ],
   "source": [
    "lexicon = np.loadtxt(lexicon_path,dtype='str')\n",
    "lexicon = np.array([l.rstrip(\"\\n\") for l in lexicon])\n",
    "print \"Lexicon:\", lexicon\n",
    "\n",
    "test_file_length = 0\n",
    "\n",
    "with open(test_data_folder_path+\"test.txt\",\"w\")as f:\n",
    "    for i,j,k in os.walk(test_data_folder_path):\n",
    "        for kk in k:\n",
    "            path = os.path.join(i,kk)\n",
    "            if \"jpg\" not in path:\n",
    "                continue\n",
    "            f.write(path+\",\"+str(np.where(lexicon == path.split(\"/\")[-2])[0][0])+\"\\n\")\n",
    "            test_file_length += 1\n",
    "            \n",
    "y2c.create_testing_file(test_data_folder_path+\"test.txt\", lexicon_path, batch_size, input_size,num_class)"
   ]
  },
  {
   "cell_type": "markdown",
   "metadata": {},
   "source": [
    "## 4. Transform the Model "
   ]
  },
  {
   "cell_type": "code",
   "execution_count": null,
   "metadata": {
    "collapsed": false
   },
   "outputs": [
    {
     "name": "stdout",
     "output_type": "stream",
     "text": [
      "YOLO total weights :  67199109\n",
      "------------------------------------------\n",
      "Layers:  ['conv1', 'bn1', 'scale_conv1', 'conv2', 'bn2', 'scale_conv2', 'conv3', 'bn3', 'scale_conv3', 'conv4', 'bn4', 'scale_conv4', 'conv5', 'bn5', 'scale_conv5', 'conv6', 'bn6', 'scale_conv6', 'conv7', 'bn7', 'scale_conv7', 'conv8', 'bn8', 'scale_conv8', 'conv9', 'bn9', 'scale_conv9', 'conv10', 'bn10', 'scale_conv10', 'conv11', 'bn11', 'scale_conv11', 'conv12', 'bn12', 'scale_conv12', 'conv13', 'bn13', 'scale_conv13', 'conv14', 'bn14', 'scale_conv14', 'conv15', 'bn15', 'scale_conv15', 'conv16', 'bn16', 'scale_conv16', 'conv17', 'bn17', 'scale_conv17', 'conv18', 'bn18', 'scale_conv18', 'conv19', 'bn19', 'scale_conv19', 'conv20', 'bn20', 'scale_conv20', 'conv21', 'bn21', 'scale_conv21', 'conv_reg']\n",
      "------------------------------------------\n",
      "Model Matching: Success!!\n"
     ]
    }
   ],
   "source": [
    "y2c.transform(yolo_weights_path,\"yolo/y2c_template.prototxt\",\"yolo/target.caffemodel\")"
   ]
  },
  {
   "cell_type": "markdown",
   "metadata": {},
   "source": [
    "## 5. Check Accuracy "
   ]
  },
  {
   "cell_type": "code",
   "execution_count": null,
   "metadata": {
    "collapsed": false
   },
   "outputs": [],
   "source": [
    "solver = caffe.SGDSolver('yolo/solver.prototxt')\n",
    "solver.net.copy_from('yolo/target.caffemodel')\n",
    "solver.test_nets[0].share_with(solver.net)\n",
    "acc = y2c.check_accuracy(solver.test_nets[0], test_file_length,64, 28)\n",
    "print \"Accuracy:\", acc"
   ]
  }
 ],
 "metadata": {
  "anaconda-cloud": {},
  "description": "Multilabel classification on PASCAL VOC using a Python data layer.",
  "example_name": "Multilabel Classification with Python Data Layer",
  "include_in_docs": true,
  "kernelspec": {
   "display_name": "Python 2",
   "language": "python",
   "name": "python2"
  },
  "language_info": {
   "codemirror_mode": {
    "name": "ipython",
    "version": 2
   },
   "file_extension": ".py",
   "mimetype": "text/x-python",
   "name": "python",
   "nbconvert_exporter": "python",
   "pygments_lexer": "ipython2",
   "version": "2.7.6"
  },
  "priority": 5
 },
 "nbformat": 4,
 "nbformat_minor": 0
}
